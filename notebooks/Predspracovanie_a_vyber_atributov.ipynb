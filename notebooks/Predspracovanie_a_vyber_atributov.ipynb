{
 "cells": [
  {
   "cell_type": "markdown",
   "metadata": {},
   "source": [
    "# OZNAL - Predspracovanie a výber atribútov\n",
    "Miroslav Čulík, Andrej Gáfrik"
   ]
  },
  {
   "cell_type": "markdown",
   "metadata": {},
   "source": [
    "1. **Opis problému, dát**\n",
    "2. **Stručný opis prác iných autorov** - pochopenie prác iných autorov, ktorí riešia rovnaký problém je veľmi dôležitou súčasťou skúmania. Môžete sa z iných prác inšpirovať a poučiť. Práce citujte v texte a uveďte v zozname použitej literatúry.\n",
    "3. **Predspracovanie a výber atribútov** - opis použitých metód a ich výsledky (aj slepé uličky)\n",
    "4. **DM metódy** - opis použitých metód, alebo predpokladaný scenár použitia (je potrebné poznať DM metódy, ktoré plánujete použiť, aby ste vedeli, ako dáta predspracovať)\n",
    "5. **Prvotné experimenty**\n",
    "6. **Vyhodnocovanie** - čo budete vyhodnocovať, aké miery, grafy, kritériá použijete"
   ]
  },
  {
   "cell_type": "markdown",
   "metadata": {},
   "source": [
    "## Opis problému, dát\n",
    "Výber toho najdôležitejšieho z minulého reportu"
   ]
  },
  {
   "cell_type": "markdown",
   "metadata": {},
   "source": [
    "## Stručný opis prác iných autorov"
   ]
  },
  {
   "attachments": {
    "image.png": {
     "image/png": "[encoded data removed]"
    }
   },
   "cell_type": "markdown",
   "metadata": {},
   "source": [
    "**Vedecké zdroje:**\n",
    "1. [Housing Price Prediction Using Machine Learning Algorithms: The Case of Melbourne City, Australia](https://ieeexplore.ieee.org/document/8614000)\n",
    "    - House Sales in Melbourne City dataset (31k riadkov, 21 stlpcov)\n",
    "    - Linearna regresia \n",
    "    - Polynomialna regresia\n",
    "    - Regression Trees\n",
    "    - Neuronova sieť\n",
    "    - SVM\n",
    "    ![image.png](attachment:image.png)\n",
    "    - metriky: MSE\n",
    "    \n",
    "2. [Research on the Sustainable Development of UrbanHousing Price Based on Transport Accessibility:A Case Study of Xi’an, China](https://www.mdpi.com/2071-1050/12/4/1497)\n",
    "    - Random Forests(M3, M4)\n",
    "    ![image.png](attachment:image.png)\n",
    "    \n",
    "3. [A prediction comparison of housing sales prices by parametric versus semi-parametric regressions](https://www.sciencedirect.com/science/article/abs/pii/S105113770400004X)\n",
    "\n",
    "**Nevedecké zdroje:**\n",
    "1. https://towardsdatascience.com/regression-using-sklearn-on-kc-housing-dataset-1ac80ca3d6d4\n",
    "    - naše dáta\n",
    "    - lineárna regresia\n",
    "    - viacnásobná regresia\n",
    "    - polynomiálna regresia\n",
    "    \n",
    "    - metriky: R Squared \n",
    "\n",
    "2. [Real Estate Price Prediction Using MachineLearning - Data Analytics Research Project](http://trap.ncirl.ie/3096/1/aswinsivamravikumar.pdf)"
   ]
  },
  {
   "cell_type": "markdown",
   "metadata": {},
   "source": [
    "## Predspracovanie a výber atribútov"
   ]
  },
  {
   "cell_type": "markdown",
   "metadata": {},
   "source": [
    "- **price** - transformácia pomocou boxcox transformácie a nahradenie outlierov 5-95 percentilom\n",
    "- **bedrooms** - manuálna úprava inštancie s hodnotou 33 na 3\n",
    "- **sqft_living** - transformácia pomocou logaritmu a nahradenie outlierov 5-95 percentilom\n",
    "- **sqft_lot** - transformácia pomocou boxcox transformácie a nahradenie outlierov mediánom\n",
    "- **sqft_above** - transformácia pomocou boxcox transformácie a nahradenie outlierov 5-95 percentilom\n",
    "- **sqft_basement** - transformácia pomocou odmocniny a nahradenie outlierov priemerom alebo odstránenie stĺpca\n",
    "- **sqft_living15** - transformácia pomocou logaritmu a nahradenie outlierov 5-95 percentilom\n",
    "- **sqft_lot15** - transformácia pomocou boxcox transformácie a nahradenie outlierov mediánom\n",
    "\n",
    "Okrem zistení sme objavili 10 inštancií, ktoré majú hodnotu 0.0 pri počte kúpeľňového vybavenia v stĺpci `bathroom`, pričom až 7 z nich mám hodnotu počtu spální v atribúte `bedrooms` rovnú 0, zvyšné 3 majú hodnotu 1. Navrhujeme teda týchto 10 inštancií zmazať."
   ]
  },
  {
   "cell_type": "markdown",
   "metadata": {},
   "source": [
    "## DM metódy"
   ]
  },
  {
   "cell_type": "markdown",
   "metadata": {},
   "source": [
    "1. Lineárna regresia\n",
    " - jednoduchá\n",
    " - viacnásobná\n",
    " \n",
    "2. Polynomiálna regresia\n",
    " - stupeň 2\n",
    " - stupeň 3\n",
    "\n",
    "3. Support Vector Regression (SVR)\n",
    "4. Decission Tree Regression / Regression Tree\n",
    "5. Random Forest"
   ]
  },
  {
   "cell_type": "markdown",
   "metadata": {},
   "source": [
    "## Prvotné experimenty"
   ]
  },
  {
   "cell_type": "markdown",
   "metadata": {},
   "source": []
  },
  {
   "cell_type": "markdown",
   "metadata": {},
   "source": [
    "## Vyhodnocovanie"
   ]
  },
  {
   "cell_type": "markdown",
   "metadata": {},
   "source": [
    "Metriky:\n",
    "- Mean Square Error (MSE)\n",
    "- Root Mean Squared Error (RMSE)\n",
    "- R-squared\n",
    "- Adjusted R-squared"
   ]
  }
 ],
 "metadata": {
  "kernelspec": {
   "display_name": "Python 3",
   "language": "python",
   "name": "python3"
  },
  "language_info": {
   "codemirror_mode": {
    "name": "ipython",
    "version": 3
   },
   "file_extension": ".py",
   "mimetype": "text/x-python",
   "name": "python",
   "nbconvert_exporter": "python",
   "pygments_lexer": "ipython3",
   "version": "3.7.4"
  },
  "toc": {
   "base_numbering": 1,
   "nav_menu": {},
   "number_sections": true,
   "sideBar": true,
   "skip_h1_title": false,
   "title_cell": "Table of Contents",
   "title_sidebar": "Contents",
   "toc_cell": false,
   "toc_position": {},
   "toc_section_display": true,
   "toc_window_display": true
  }
 },
 "nbformat": 4,
 "nbformat_minor": 2
}
